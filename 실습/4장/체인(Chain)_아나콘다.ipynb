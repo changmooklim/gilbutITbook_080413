{
 "cells": [
  {
   "cell_type": "code",
   "execution_count": 1,
   "id": "8ACn_uFg0fHd",
   "metadata": {
    "colab": {
     "base_uri": "https://localhost:8080/"
    },
    "id": "8ACn_uFg0fHd",
    "outputId": "b497a839-759d-48ca-efc0-47968003bc11"
   },
   "outputs": [
    {
     "name": "stdout",
     "output_type": "stream",
     "text": [
      "Found existing installation: langchain 0.1.12\n",
      "Uninstalling langchain-0.1.12:\n",
      "  Successfully uninstalled langchain-0.1.12\n"
     ]
    },
    {
     "name": "stderr",
     "output_type": "stream",
     "text": [
      "WARNING: Ignoring invalid distribution -pype1 (c:\\users\\jyseo\\appdata\\roaming\\python\\python38\\site-packages)\n",
      "WARNING: Ignoring invalid distribution -pype1 (c:\\users\\jyseo\\appdata\\roaming\\python\\python38\\site-packages)\n"
     ]
    }
   ],
   "source": [
    "#langchain==0.0.350에서 dependency 오류가 발생하여 기존 langchanin 삭제\n",
    "!pip3 uninstall -y langchain"
   ]
  },
  {
   "cell_type": "code",
   "execution_count": 2,
   "id": "E24DEAnK1Aiv",
   "metadata": {
    "colab": {
     "base_uri": "https://localhost:8080/"
    },
    "id": "E24DEAnK1Aiv",
    "outputId": "4e9a6db2-551f-4b5b-e4fd-f6f2fb07999d"
   },
   "outputs": [
    {
     "name": "stdout",
     "output_type": "stream",
     "text": [
      "Collecting langchain\n",
      "  Using cached langchain-0.1.12-py3-none-any.whl.metadata (13 kB)\n",
      "Requirement already satisfied: PyYAML>=5.3 in e:\\anaconda3\\envs\\error_env\\lib\\site-packages (from langchain) (6.0.1)\n",
      "Requirement already satisfied: SQLAlchemy<3,>=1.4 in e:\\anaconda3\\envs\\error_env\\lib\\site-packages (from langchain) (2.0.28)\n",
      "Requirement already satisfied: aiohttp<4.0.0,>=3.8.3 in e:\\anaconda3\\envs\\error_env\\lib\\site-packages (from langchain) (3.9.3)\n",
      "Requirement already satisfied: async-timeout<5.0.0,>=4.0.0 in e:\\anaconda3\\envs\\error_env\\lib\\site-packages (from langchain) (4.0.3)\n",
      "Requirement already satisfied: dataclasses-json<0.7,>=0.5.7 in e:\\anaconda3\\envs\\error_env\\lib\\site-packages (from langchain) (0.6.4)\n",
      "Requirement already satisfied: jsonpatch<2.0,>=1.33 in e:\\anaconda3\\envs\\error_env\\lib\\site-packages (from langchain) (1.33)\n",
      "Requirement already satisfied: langchain-community<0.1,>=0.0.28 in e:\\anaconda3\\envs\\error_env\\lib\\site-packages (from langchain) (0.0.28)\n",
      "Requirement already satisfied: langchain-core<0.2.0,>=0.1.31 in e:\\anaconda3\\envs\\error_env\\lib\\site-packages (from langchain) (0.1.32)\n",
      "Requirement already satisfied: langchain-text-splitters<0.1,>=0.0.1 in e:\\anaconda3\\envs\\error_env\\lib\\site-packages (from langchain) (0.0.1)\n",
      "Requirement already satisfied: langsmith<0.2.0,>=0.1.17 in e:\\anaconda3\\envs\\error_env\\lib\\site-packages (from langchain) (0.1.27)\n",
      "Requirement already satisfied: numpy<2,>=1 in e:\\anaconda3\\envs\\error_env\\lib\\site-packages (from langchain) (1.24.4)\n",
      "Requirement already satisfied: pydantic<3,>=1 in e:\\anaconda3\\envs\\error_env\\lib\\site-packages (from langchain) (2.6.4)\n",
      "Requirement already satisfied: requests<3,>=2 in e:\\anaconda3\\envs\\error_env\\lib\\site-packages (from langchain) (2.31.0)\n",
      "Requirement already satisfied: tenacity<9.0.0,>=8.1.0 in e:\\anaconda3\\envs\\error_env\\lib\\site-packages (from langchain) (8.2.3)\n",
      "Requirement already satisfied: aiosignal>=1.1.2 in e:\\anaconda3\\envs\\error_env\\lib\\site-packages (from aiohttp<4.0.0,>=3.8.3->langchain) (1.3.1)\n",
      "Requirement already satisfied: attrs>=17.3.0 in e:\\anaconda3\\envs\\error_env\\lib\\site-packages (from aiohttp<4.0.0,>=3.8.3->langchain) (23.2.0)\n",
      "Requirement already satisfied: frozenlist>=1.1.1 in e:\\anaconda3\\envs\\error_env\\lib\\site-packages (from aiohttp<4.0.0,>=3.8.3->langchain) (1.4.1)\n",
      "Requirement already satisfied: multidict<7.0,>=4.5 in e:\\anaconda3\\envs\\error_env\\lib\\site-packages (from aiohttp<4.0.0,>=3.8.3->langchain) (6.0.5)\n",
      "Requirement already satisfied: yarl<2.0,>=1.0 in e:\\anaconda3\\envs\\error_env\\lib\\site-packages (from aiohttp<4.0.0,>=3.8.3->langchain) (1.9.4)\n",
      "Requirement already satisfied: marshmallow<4.0.0,>=3.18.0 in e:\\anaconda3\\envs\\error_env\\lib\\site-packages (from dataclasses-json<0.7,>=0.5.7->langchain) (3.21.1)\n",
      "Requirement already satisfied: typing-inspect<1,>=0.4.0 in e:\\anaconda3\\envs\\error_env\\lib\\site-packages (from dataclasses-json<0.7,>=0.5.7->langchain) (0.9.0)\n",
      "Requirement already satisfied: jsonpointer>=1.9 in e:\\anaconda3\\envs\\error_env\\lib\\site-packages (from jsonpatch<2.0,>=1.33->langchain) (2.4)\n",
      "Requirement already satisfied: anyio<5,>=3 in e:\\anaconda3\\envs\\error_env\\lib\\site-packages (from langchain-core<0.2.0,>=0.1.31->langchain) (4.3.0)\n",
      "Requirement already satisfied: packaging<24.0,>=23.2 in e:\\anaconda3\\envs\\error_env\\lib\\site-packages (from langchain-core<0.2.0,>=0.1.31->langchain) (23.2)\n",
      "Requirement already satisfied: orjson<4.0.0,>=3.9.14 in e:\\anaconda3\\envs\\error_env\\lib\\site-packages (from langsmith<0.2.0,>=0.1.17->langchain) (3.9.15)\n",
      "Requirement already satisfied: annotated-types>=0.4.0 in e:\\anaconda3\\envs\\error_env\\lib\\site-packages (from pydantic<3,>=1->langchain) (0.6.0)\n",
      "Requirement already satisfied: pydantic-core==2.16.3 in e:\\anaconda3\\envs\\error_env\\lib\\site-packages (from pydantic<3,>=1->langchain) (2.16.3)\n",
      "Requirement already satisfied: typing-extensions>=4.6.1 in e:\\anaconda3\\envs\\error_env\\lib\\site-packages (from pydantic<3,>=1->langchain) (4.10.0)\n",
      "Requirement already satisfied: charset-normalizer<4,>=2 in e:\\anaconda3\\envs\\error_env\\lib\\site-packages (from requests<3,>=2->langchain) (3.3.2)\n",
      "Requirement already satisfied: idna<4,>=2.5 in e:\\anaconda3\\envs\\error_env\\lib\\site-packages (from requests<3,>=2->langchain) (3.6)\n",
      "Requirement already satisfied: urllib3<3,>=1.21.1 in e:\\anaconda3\\envs\\error_env\\lib\\site-packages (from requests<3,>=2->langchain) (2.2.1)\n",
      "Requirement already satisfied: certifi>=2017.4.17 in e:\\anaconda3\\envs\\error_env\\lib\\site-packages (from requests<3,>=2->langchain) (2024.2.2)\n",
      "Requirement already satisfied: greenlet!=0.4.17 in e:\\anaconda3\\envs\\error_env\\lib\\site-packages (from SQLAlchemy<3,>=1.4->langchain) (3.0.3)\n",
      "Requirement already satisfied: sniffio>=1.1 in e:\\anaconda3\\envs\\error_env\\lib\\site-packages (from anyio<5,>=3->langchain-core<0.2.0,>=0.1.31->langchain) (1.3.1)\n",
      "Requirement already satisfied: exceptiongroup>=1.0.2 in e:\\anaconda3\\envs\\error_env\\lib\\site-packages (from anyio<5,>=3->langchain-core<0.2.0,>=0.1.31->langchain) (1.2.0)\n",
      "Requirement already satisfied: mypy-extensions>=0.3.0 in e:\\anaconda3\\envs\\error_env\\lib\\site-packages (from typing-inspect<1,>=0.4.0->dataclasses-json<0.7,>=0.5.7->langchain) (1.0.0)\n",
      "Using cached langchain-0.1.12-py3-none-any.whl (809 kB)\n",
      "Installing collected packages: langchain\n",
      "Successfully installed langchain-0.1.12\n"
     ]
    },
    {
     "name": "stderr",
     "output_type": "stream",
     "text": [
      "WARNING: Ignoring invalid distribution -pype1 (c:\\users\\jyseo\\appdata\\roaming\\python\\python38\\site-packages)\n",
      "WARNING: Ignoring invalid distribution -pype1 (c:\\users\\jyseo\\appdata\\roaming\\python\\python38\\site-packages)\n",
      "WARNING: Ignoring invalid distribution -pype1 (c:\\users\\jyseo\\appdata\\roaming\\python\\python38\\site-packages)\n",
      "WARNING: Ignoring invalid distribution -pype1 (c:\\users\\jyseo\\appdata\\roaming\\python\\python38\\site-packages)\n",
      "WARNING: Ignoring invalid distribution -pype1 (c:\\users\\jyseo\\appdata\\roaming\\python\\python38\\site-packages)\n",
      "WARNING: Ignoring invalid distribution -pype1 (c:\\users\\jyseo\\appdata\\roaming\\python\\python38\\site-packages)\n"
     ]
    }
   ],
   "source": [
    "#langchain==0.0.350에서 dependency 오류가 발생하여 langchanin 최신 버전으로 설치\n",
    "!pip install langchain"
   ]
  },
  {
   "cell_type": "code",
   "execution_count": 3,
   "id": "nKrcfWBj1Lxk",
   "metadata": {
    "colab": {
     "base_uri": "https://localhost:8080/"
    },
    "id": "nKrcfWBj1Lxk",
    "outputId": "04cb553a-85be-476a-bd74-e350e2d556b8"
   },
   "outputs": [
    {
     "name": "stdout",
     "output_type": "stream",
     "text": [
      "Requirement already satisfied: langchain-community in e:\\anaconda3\\envs\\error_env\\lib\\site-packages (0.0.28)\n",
      "Requirement already satisfied: PyYAML>=5.3 in e:\\anaconda3\\envs\\error_env\\lib\\site-packages (from langchain-community) (6.0.1)\n",
      "Requirement already satisfied: SQLAlchemy<3,>=1.4 in e:\\anaconda3\\envs\\error_env\\lib\\site-packages (from langchain-community) (2.0.28)\n",
      "Requirement already satisfied: aiohttp<4.0.0,>=3.8.3 in e:\\anaconda3\\envs\\error_env\\lib\\site-packages (from langchain-community) (3.9.3)\n",
      "Requirement already satisfied: dataclasses-json<0.7,>=0.5.7 in e:\\anaconda3\\envs\\error_env\\lib\\site-packages (from langchain-community) (0.6.4)\n",
      "Requirement already satisfied: langchain-core<0.2.0,>=0.1.31 in e:\\anaconda3\\envs\\error_env\\lib\\site-packages (from langchain-community) (0.1.32)\n",
      "Requirement already satisfied: langsmith<0.2.0,>=0.1.0 in e:\\anaconda3\\envs\\error_env\\lib\\site-packages (from langchain-community) (0.1.27)\n",
      "Requirement already satisfied: numpy<2,>=1 in e:\\anaconda3\\envs\\error_env\\lib\\site-packages (from langchain-community) (1.24.4)\n",
      "Requirement already satisfied: requests<3,>=2 in e:\\anaconda3\\envs\\error_env\\lib\\site-packages (from langchain-community) (2.31.0)\n",
      "Requirement already satisfied: tenacity<9.0.0,>=8.1.0 in e:\\anaconda3\\envs\\error_env\\lib\\site-packages (from langchain-community) (8.2.3)\n",
      "Requirement already satisfied: aiosignal>=1.1.2 in e:\\anaconda3\\envs\\error_env\\lib\\site-packages (from aiohttp<4.0.0,>=3.8.3->langchain-community) (1.3.1)\n",
      "Requirement already satisfied: attrs>=17.3.0 in e:\\anaconda3\\envs\\error_env\\lib\\site-packages (from aiohttp<4.0.0,>=3.8.3->langchain-community) (23.2.0)\n",
      "Requirement already satisfied: frozenlist>=1.1.1 in e:\\anaconda3\\envs\\error_env\\lib\\site-packages (from aiohttp<4.0.0,>=3.8.3->langchain-community) (1.4.1)\n",
      "Requirement already satisfied: multidict<7.0,>=4.5 in e:\\anaconda3\\envs\\error_env\\lib\\site-packages (from aiohttp<4.0.0,>=3.8.3->langchain-community) (6.0.5)\n",
      "Requirement already satisfied: yarl<2.0,>=1.0 in e:\\anaconda3\\envs\\error_env\\lib\\site-packages (from aiohttp<4.0.0,>=3.8.3->langchain-community) (1.9.4)\n",
      "Requirement already satisfied: async-timeout<5.0,>=4.0 in e:\\anaconda3\\envs\\error_env\\lib\\site-packages (from aiohttp<4.0.0,>=3.8.3->langchain-community) (4.0.3)\n",
      "Requirement already satisfied: marshmallow<4.0.0,>=3.18.0 in e:\\anaconda3\\envs\\error_env\\lib\\site-packages (from dataclasses-json<0.7,>=0.5.7->langchain-community) (3.21.1)\n",
      "Requirement already satisfied: typing-inspect<1,>=0.4.0 in e:\\anaconda3\\envs\\error_env\\lib\\site-packages (from dataclasses-json<0.7,>=0.5.7->langchain-community) (0.9.0)\n",
      "Requirement already satisfied: anyio<5,>=3 in e:\\anaconda3\\envs\\error_env\\lib\\site-packages (from langchain-core<0.2.0,>=0.1.31->langchain-community) (4.3.0)\n",
      "Requirement already satisfied: jsonpatch<2.0,>=1.33 in e:\\anaconda3\\envs\\error_env\\lib\\site-packages (from langchain-core<0.2.0,>=0.1.31->langchain-community) (1.33)\n",
      "Requirement already satisfied: packaging<24.0,>=23.2 in e:\\anaconda3\\envs\\error_env\\lib\\site-packages (from langchain-core<0.2.0,>=0.1.31->langchain-community) (23.2)\n",
      "Requirement already satisfied: pydantic<3,>=1 in e:\\anaconda3\\envs\\error_env\\lib\\site-packages (from langchain-core<0.2.0,>=0.1.31->langchain-community) (2.6.4)\n",
      "Requirement already satisfied: orjson<4.0.0,>=3.9.14 in e:\\anaconda3\\envs\\error_env\\lib\\site-packages (from langsmith<0.2.0,>=0.1.0->langchain-community) (3.9.15)\n",
      "Requirement already satisfied: charset-normalizer<4,>=2 in e:\\anaconda3\\envs\\error_env\\lib\\site-packages (from requests<3,>=2->langchain-community) (3.3.2)\n",
      "Requirement already satisfied: idna<4,>=2.5 in e:\\anaconda3\\envs\\error_env\\lib\\site-packages (from requests<3,>=2->langchain-community) (3.6)\n",
      "Requirement already satisfied: urllib3<3,>=1.21.1 in e:\\anaconda3\\envs\\error_env\\lib\\site-packages (from requests<3,>=2->langchain-community) (2.2.1)\n",
      "Requirement already satisfied: certifi>=2017.4.17 in e:\\anaconda3\\envs\\error_env\\lib\\site-packages (from requests<3,>=2->langchain-community) (2024.2.2)\n",
      "Requirement already satisfied: typing-extensions>=4.6.0 in e:\\anaconda3\\envs\\error_env\\lib\\site-packages (from SQLAlchemy<3,>=1.4->langchain-community) (4.10.0)\n",
      "Requirement already satisfied: greenlet!=0.4.17 in e:\\anaconda3\\envs\\error_env\\lib\\site-packages (from SQLAlchemy<3,>=1.4->langchain-community) (3.0.3)\n",
      "Requirement already satisfied: sniffio>=1.1 in e:\\anaconda3\\envs\\error_env\\lib\\site-packages (from anyio<5,>=3->langchain-core<0.2.0,>=0.1.31->langchain-community) (1.3.1)\n",
      "Requirement already satisfied: exceptiongroup>=1.0.2 in e:\\anaconda3\\envs\\error_env\\lib\\site-packages (from anyio<5,>=3->langchain-core<0.2.0,>=0.1.31->langchain-community) (1.2.0)\n",
      "Requirement already satisfied: jsonpointer>=1.9 in e:\\anaconda3\\envs\\error_env\\lib\\site-packages (from jsonpatch<2.0,>=1.33->langchain-core<0.2.0,>=0.1.31->langchain-community) (2.4)\n",
      "Requirement already satisfied: annotated-types>=0.4.0 in e:\\anaconda3\\envs\\error_env\\lib\\site-packages (from pydantic<3,>=1->langchain-core<0.2.0,>=0.1.31->langchain-community) (0.6.0)\n",
      "Requirement already satisfied: pydantic-core==2.16.3 in e:\\anaconda3\\envs\\error_env\\lib\\site-packages (from pydantic<3,>=1->langchain-core<0.2.0,>=0.1.31->langchain-community) (2.16.3)\n",
      "Requirement already satisfied: mypy-extensions>=0.3.0 in e:\\anaconda3\\envs\\error_env\\lib\\site-packages (from typing-inspect<1,>=0.4.0->dataclasses-json<0.7,>=0.5.7->langchain-community) (1.0.0)\n"
     ]
    },
    {
     "name": "stderr",
     "output_type": "stream",
     "text": [
      "WARNING: Ignoring invalid distribution -pype1 (c:\\users\\jyseo\\appdata\\roaming\\python\\python38\\site-packages)\n",
      "WARNING: Ignoring invalid distribution -pype1 (c:\\users\\jyseo\\appdata\\roaming\\python\\python38\\site-packages)\n",
      "WARNING: Ignoring invalid distribution -pype1 (c:\\users\\jyseo\\appdata\\roaming\\python\\python38\\site-packages)\n",
      "WARNING: Ignoring invalid distribution -pype1 (c:\\users\\jyseo\\appdata\\roaming\\python\\python38\\site-packages)\n",
      "WARNING: Ignoring invalid distribution -pype1 (c:\\users\\jyseo\\appdata\\roaming\\python\\python38\\site-packages)\n",
      "WARNING: Ignoring invalid distribution -pype1 (c:\\users\\jyseo\\appdata\\roaming\\python\\python38\\site-packages)\n"
     ]
    }
   ],
   "source": [
    "#langchain-community 역시 재설치\n",
    "!pip install -U langchain-community"
   ]
  },
  {
   "cell_type": "code",
   "execution_count": 4,
   "id": "e14e6717",
   "metadata": {},
   "outputs": [
    {
     "name": "stdout",
     "output_type": "stream",
     "text": [
      "Requirement already satisfied: openai==1.4.0 in e:\\anaconda3\\envs\\error_env\\lib\\site-packages (1.4.0)\n",
      "Requirement already satisfied: anyio<5,>=3.5.0 in e:\\anaconda3\\envs\\error_env\\lib\\site-packages (from openai==1.4.0) (4.3.0)\n",
      "Requirement already satisfied: distro<2,>=1.7.0 in e:\\anaconda3\\envs\\error_env\\lib\\site-packages (from openai==1.4.0) (1.9.0)\n",
      "Requirement already satisfied: httpx<1,>=0.23.0 in e:\\anaconda3\\envs\\error_env\\lib\\site-packages (from openai==1.4.0) (0.27.0)\n",
      "Requirement already satisfied: pydantic<3,>=1.9.0 in e:\\anaconda3\\envs\\error_env\\lib\\site-packages (from openai==1.4.0) (2.6.4)\n",
      "Requirement already satisfied: sniffio in e:\\anaconda3\\envs\\error_env\\lib\\site-packages (from openai==1.4.0) (1.3.1)\n",
      "Requirement already satisfied: tqdm>4 in e:\\anaconda3\\envs\\error_env\\lib\\site-packages (from openai==1.4.0) (4.66.2)\n",
      "Requirement already satisfied: typing-extensions<5,>=4.5 in e:\\anaconda3\\envs\\error_env\\lib\\site-packages (from openai==1.4.0) (4.10.0)\n",
      "Requirement already satisfied: idna>=2.8 in e:\\anaconda3\\envs\\error_env\\lib\\site-packages (from anyio<5,>=3.5.0->openai==1.4.0) (3.6)\n",
      "Requirement already satisfied: exceptiongroup>=1.0.2 in e:\\anaconda3\\envs\\error_env\\lib\\site-packages (from anyio<5,>=3.5.0->openai==1.4.0) (1.2.0)\n",
      "Requirement already satisfied: certifi in e:\\anaconda3\\envs\\error_env\\lib\\site-packages (from httpx<1,>=0.23.0->openai==1.4.0) (2024.2.2)\n",
      "Requirement already satisfied: httpcore==1.* in e:\\anaconda3\\envs\\error_env\\lib\\site-packages (from httpx<1,>=0.23.0->openai==1.4.0) (1.0.4)\n",
      "Requirement already satisfied: h11<0.15,>=0.13 in e:\\anaconda3\\envs\\error_env\\lib\\site-packages (from httpcore==1.*->httpx<1,>=0.23.0->openai==1.4.0) (0.14.0)\n",
      "Requirement already satisfied: annotated-types>=0.4.0 in e:\\anaconda3\\envs\\error_env\\lib\\site-packages (from pydantic<3,>=1.9.0->openai==1.4.0) (0.6.0)\n",
      "Requirement already satisfied: pydantic-core==2.16.3 in e:\\anaconda3\\envs\\error_env\\lib\\site-packages (from pydantic<3,>=1.9.0->openai==1.4.0) (2.16.3)\n",
      "Requirement already satisfied: colorama in e:\\anaconda3\\envs\\error_env\\lib\\site-packages (from tqdm>4->openai==1.4.0) (0.4.6)\n"
     ]
    },
    {
     "name": "stderr",
     "output_type": "stream",
     "text": [
      "WARNING: Ignoring invalid distribution -pype1 (c:\\users\\jyseo\\appdata\\roaming\\python\\python38\\site-packages)\n",
      "WARNING: Ignoring invalid distribution -pype1 (c:\\users\\jyseo\\appdata\\roaming\\python\\python38\\site-packages)\n",
      "WARNING: Ignoring invalid distribution -pype1 (c:\\users\\jyseo\\appdata\\roaming\\python\\python38\\site-packages)\n",
      "WARNING: Ignoring invalid distribution -pype1 (c:\\users\\jyseo\\appdata\\roaming\\python\\python38\\site-packages)\n",
      "WARNING: Ignoring invalid distribution -pype1 (c:\\users\\jyseo\\appdata\\roaming\\python\\python38\\site-packages)\n",
      "WARNING: Ignoring invalid distribution -pype1 (c:\\users\\jyseo\\appdata\\roaming\\python\\python38\\site-packages)\n"
     ]
    }
   ],
   "source": [
    "!pip install openai==1.4.0"
   ]
  },
  {
   "cell_type": "code",
   "execution_count": 5,
   "id": "9beac4bc",
   "metadata": {
    "colab": {
     "base_uri": "https://localhost:8080/",
     "height": 35
    },
    "id": "9beac4bc",
    "outputId": "8c2f7f69-98cc-49b2-e08f-a81106b3012d"
   },
   "outputs": [
    {
     "name": "stderr",
     "output_type": "stream",
     "text": [
      "e:\\anaconda3\\envs\\error_env\\lib\\site-packages\\langchain_core\\_api\\deprecation.py:117: LangChainDeprecationWarning: The class `langchain_community.llms.openai.OpenAI` was deprecated in langchain-community 0.0.10 and will be removed in 0.2.0. An updated version of the class exists in the langchain-openai package and should be used instead. To use it run `pip install -U langchain-openai` and import as `from langchain_openai import OpenAI`.\n",
      "  warn_deprecated(\n",
      "e:\\anaconda3\\envs\\error_env\\lib\\site-packages\\langchain_core\\_api\\deprecation.py:117: LangChainDeprecationWarning: The function `run` was deprecated in LangChain 0.1.0 and will be removed in 0.2.0. Use invoke instead.\n",
      "  warn_deprecated(\n"
     ]
    },
    {
     "data": {
      "text/plain": [
       "'\\n\\n대한민국의 수도는 서울입니다. '"
      ]
     },
     "execution_count": 5,
     "metadata": {},
     "output_type": "execute_result"
    }
   ],
   "source": [
    "from langchain.chains import LLMChain\n",
    "from langchain import PromptTemplate\n",
    "from langchain.llms import OpenAI\n",
    "import os\n",
    "os.environ[\"OPENAI_API_KEY\"] = \"sk-\" #openai 키 입력\n",
    "\n",
    "llm = OpenAI()\n",
    "\n",
    "prompt = PromptTemplate(\n",
    "  input_variables=[\"country\"],\n",
    "  template= \"{country}의 수도는 어디야?\",\n",
    ")\n",
    "\n",
    "chain = LLMChain(llm=llm, prompt=prompt) #프롬프트와 모델을 체인으로 연결\n",
    "chain.run(\"대한민국\")"
   ]
  },
  {
   "cell_type": "code",
   "execution_count": 6,
   "id": "b0ba88e2",
   "metadata": {
    "colab": {
     "base_uri": "https://localhost:8080/"
    },
    "id": "b0ba88e2",
    "outputId": "d01e8716-ce83-43c8-91d5-20bacb5c2059"
   },
   "outputs": [
    {
     "name": "stderr",
     "output_type": "stream",
     "text": [
      "e:\\anaconda3\\envs\\error_env\\lib\\site-packages\\langchain_core\\_api\\deprecation.py:117: LangChainDeprecationWarning: The function `__call__` was deprecated in LangChain 0.1.0 and will be removed in 0.2.0. Use invoke instead.\n",
      "  warn_deprecated(\n"
     ]
    },
    {
     "data": {
      "text/plain": [
       "{'sentence': '\\nOne limitation of LLMs is their lack of contextual information (e.g., access to some specific documents or emails). You can combat this by giving LLMs access to the specific external data.\\nFor this, you first need to load the external data with a document loader. LangChain provides a variety of loaders for different types of documents ranging from PDFs and emails to websites and YouTube videos.\\n',\n",
       " 'translation': '\\nLLM의 한계 중 하나는 문맥 정보가 부족하다는 것입니다 (예: 특정 문서나 이메일에 대한 접근). 이를 극복하기 위해 LLM에게 특정 외부 데이터에 접근할 수 있도록 할 수 있습니다.\\n이를 위해 먼저 문서 로더를 사용하여 외부 데이터를 불러와야 합니다. LangChain은 PDF 파일과 이메일부터 웹사이트와 유튜브 영상까지 다양한 유형의 문서를 위한 로더를 제공합니다.',\n",
       " 'summary': '\\n\\nLLM은 문맥 정보가 부족한 한계를 극복하기 위해 특정 외부 데이터에 접근할 수 있도록 할 수 있습니다. 이를 위해 LangChain은 다양한 유형의 문서를 위한 로더를 제공하며, 이를 사용하여 PDF 파일부터 웹사이트와 유튜브 영상까지 외부 데이터를 불러올 수 있습니다.'}"
      ]
     },
     "execution_count": 6,
     "metadata": {},
     "output_type": "execute_result"
    }
   ],
   "source": [
    "#프롬프트1 정의\n",
    "prompt1 = PromptTemplate(\n",
    "    input_variables=['sentence'],\n",
    "    template=\"다음 문장을 한글로 번역하세요.\\n\\n{sentence}\"\n",
    ")\n",
    "#번역(체인1)에 대한 모델\n",
    "chain1 = LLMChain(llm=llm, prompt=prompt1, output_key=\"translation\")\n",
    "\n",
    "#프롬프트2 정의\n",
    "prompt2 = PromptTemplate.from_template(\n",
    "    \"다음 문장을 한 문장으로 요약하세요.\\n\\n{translation}\"\n",
    ")\n",
    "#요약(체인2)에 대한 모델\n",
    "chain2 = LLMChain(llm=llm, prompt=prompt2, output_key=\"summary\")\n",
    "\n",
    "from langchain.chains import SequentialChain\n",
    "all_chain = SequentialChain(\n",
    "    chains=[chain1, chain2],\n",
    "    input_variables=['sentence'],\n",
    "    output_variables=['translation','summary'],\n",
    ")\n",
    "sentence=\"\"\"\n",
    "One limitation of LLMs is their lack of contextual information (e.g., access to some specific documents or emails). You can combat this by giving LLMs access to the specific external data.\n",
    "For this, you first need to load the external data with a document loader. LangChain provides a variety of loaders for different types of documents ranging from PDFs and emails to websites and YouTube videos.\n",
    "\"\"\"\n",
    "all_chain(sentence)"
   ]
  },
  {
   "cell_type": "code",
   "execution_count": null,
   "id": "766bbb8d",
   "metadata": {
    "id": "766bbb8d"
   },
   "outputs": [],
   "source": []
  }
 ],
 "metadata": {
  "colab": {
   "provenance": []
  },
  "kernelspec": {
   "display_name": "error_env",
   "language": "python",
   "name": "error_env"
  },
  "language_info": {
   "codemirror_mode": {
    "name": "ipython",
    "version": 3
   },
   "file_extension": ".py",
   "mimetype": "text/x-python",
   "name": "python",
   "nbconvert_exporter": "python",
   "pygments_lexer": "ipython3",
   "version": "3.8.18"
  }
 },
 "nbformat": 4,
 "nbformat_minor": 5
}
