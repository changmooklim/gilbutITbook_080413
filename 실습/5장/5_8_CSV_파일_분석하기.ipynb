{
 "cells": [
  {
   "cell_type": "code",
   "execution_count": 1,
   "id": "28cf019e",
   "metadata": {},
   "outputs": [
    {
     "name": "stdout",
     "output_type": "stream",
     "text": [
      "Collecting langchain-experimental==0.0.47\n",
      "  Using cached langchain_experimental-0.0.47-py3-none-any.whl.metadata (1.9 kB)\n",
      "Collecting langchain<0.1,>=0.0.350 (from langchain-experimental==0.0.47)\n",
      "  Downloading langchain-0.0.354-py3-none-any.whl.metadata (13 kB)\n",
      "Collecting langchain-core<0.2,>=0.1 (from langchain-experimental==0.0.47)\n",
      "  Using cached langchain_core-0.1.32-py3-none-any.whl.metadata (6.0 kB)\n",
      "Collecting PyYAML>=5.3 (from langchain<0.1,>=0.0.350->langchain-experimental==0.0.47)\n",
      "  Using cached PyYAML-6.0.1-cp39-cp39-win_amd64.whl.metadata (2.1 kB)\n",
      "Collecting SQLAlchemy<3,>=1.4 (from langchain<0.1,>=0.0.350->langchain-experimental==0.0.47)\n",
      "  Downloading SQLAlchemy-2.0.28-cp39-cp39-win_amd64.whl.metadata (9.8 kB)\n",
      "Collecting aiohttp<4.0.0,>=3.8.3 (from langchain<0.1,>=0.0.350->langchain-experimental==0.0.47)\n",
      "  Downloading aiohttp-3.9.3-cp39-cp39-win_amd64.whl.metadata (7.6 kB)\n",
      "Collecting async-timeout<5.0.0,>=4.0.0 (from langchain<0.1,>=0.0.350->langchain-experimental==0.0.47)\n",
      "  Using cached async_timeout-4.0.3-py3-none-any.whl.metadata (4.2 kB)\n",
      "Collecting dataclasses-json<0.7,>=0.5.7 (from langchain<0.1,>=0.0.350->langchain-experimental==0.0.47)\n",
      "  Using cached dataclasses_json-0.6.4-py3-none-any.whl.metadata (25 kB)\n",
      "Collecting jsonpatch<2.0,>=1.33 (from langchain<0.1,>=0.0.350->langchain-experimental==0.0.47)\n",
      "  Using cached jsonpatch-1.33-py2.py3-none-any.whl.metadata (3.0 kB)\n",
      "Collecting langchain-community<0.1,>=0.0.8 (from langchain<0.1,>=0.0.350->langchain-experimental==0.0.47)\n",
      "  Using cached langchain_community-0.0.28-py3-none-any.whl.metadata (8.3 kB)\n",
      "Collecting langsmith<0.1.0,>=0.0.77 (from langchain<0.1,>=0.0.350->langchain-experimental==0.0.47)\n",
      "  Using cached langsmith-0.0.92-py3-none-any.whl.metadata (9.9 kB)\n",
      "Collecting numpy<2,>=1 (from langchain<0.1,>=0.0.350->langchain-experimental==0.0.47)\n",
      "  Downloading numpy-1.26.4-cp39-cp39-win_amd64.whl.metadata (61 kB)\n",
      "     ---------------------------------------- 61.0/61.0 kB 3.2 MB/s eta 0:00:00\n",
      "Collecting pydantic<3,>=1 (from langchain<0.1,>=0.0.350->langchain-experimental==0.0.47)\n",
      "  Using cached pydantic-2.6.4-py3-none-any.whl.metadata (85 kB)\n",
      "Collecting requests<3,>=2 (from langchain<0.1,>=0.0.350->langchain-experimental==0.0.47)\n",
      "  Using cached requests-2.31.0-py3-none-any.whl.metadata (4.6 kB)\n",
      "Collecting tenacity<9.0.0,>=8.1.0 (from langchain<0.1,>=0.0.350->langchain-experimental==0.0.47)\n",
      "  Using cached tenacity-8.2.3-py3-none-any.whl.metadata (1.0 kB)\n",
      "Collecting anyio<5,>=3 (from langchain-core<0.2,>=0.1->langchain-experimental==0.0.47)\n",
      "  Using cached anyio-4.3.0-py3-none-any.whl.metadata (4.6 kB)\n",
      "INFO: pip is looking at multiple versions of langchain-core to determine which version is compatible with other requirements. This could take a while.\n",
      "Collecting langchain-core<0.2,>=0.1 (from langchain-experimental==0.0.47)\n",
      "  Using cached langchain_core-0.1.31-py3-none-any.whl.metadata (6.0 kB)\n",
      "  Using cached langchain_core-0.1.30-py3-none-any.whl.metadata (6.0 kB)\n",
      "  Using cached langchain_core-0.1.29-py3-none-any.whl.metadata (6.0 kB)\n",
      "  Using cached langchain_core-0.1.28-py3-none-any.whl.metadata (6.0 kB)\n",
      "  Using cached langchain_core-0.1.27-py3-none-any.whl.metadata (6.0 kB)\n",
      "  Using cached langchain_core-0.1.26-py3-none-any.whl.metadata (6.0 kB)\n",
      "  Using cached langchain_core-0.1.25-py3-none-any.whl.metadata (6.0 kB)\n",
      "INFO: pip is still looking at multiple versions of langchain-core to determine which version is compatible with other requirements. This could take a while.\n",
      "  Using cached langchain_core-0.1.24-py3-none-any.whl.metadata (6.0 kB)\n",
      "  Using cached langchain_core-0.1.23-py3-none-any.whl.metadata (6.0 kB)\n",
      "Collecting langsmith<0.1.0,>=0.0.77 (from langchain<0.1,>=0.0.350->langchain-experimental==0.0.47)\n",
      "  Using cached langsmith-0.0.87-py3-none-any.whl.metadata (10 kB)\n",
      "Collecting packaging<24.0,>=23.2 (from langchain-core<0.2,>=0.1->langchain-experimental==0.0.47)\n",
      "  Using cached packaging-23.2-py3-none-any.whl.metadata (3.2 kB)\n",
      "Collecting aiosignal>=1.1.2 (from aiohttp<4.0.0,>=3.8.3->langchain<0.1,>=0.0.350->langchain-experimental==0.0.47)\n",
      "  Using cached aiosignal-1.3.1-py3-none-any.whl.metadata (4.0 kB)\n",
      "Collecting attrs>=17.3.0 (from aiohttp<4.0.0,>=3.8.3->langchain<0.1,>=0.0.350->langchain-experimental==0.0.47)\n",
      "  Using cached attrs-23.2.0-py3-none-any.whl.metadata (9.5 kB)\n",
      "Collecting frozenlist>=1.1.1 (from aiohttp<4.0.0,>=3.8.3->langchain<0.1,>=0.0.350->langchain-experimental==0.0.47)\n",
      "  Using cached frozenlist-1.4.1-cp39-cp39-win_amd64.whl.metadata (12 kB)\n",
      "Collecting multidict<7.0,>=4.5 (from aiohttp<4.0.0,>=3.8.3->langchain<0.1,>=0.0.350->langchain-experimental==0.0.47)\n",
      "  Downloading multidict-6.0.5-cp39-cp39-win_amd64.whl.metadata (4.3 kB)\n",
      "Collecting yarl<2.0,>=1.0 (from aiohttp<4.0.0,>=3.8.3->langchain<0.1,>=0.0.350->langchain-experimental==0.0.47)\n",
      "  Using cached yarl-1.9.4-cp39-cp39-win_amd64.whl.metadata (32 kB)\n",
      "Collecting idna>=2.8 (from anyio<5,>=3->langchain-core<0.2,>=0.1->langchain-experimental==0.0.47)\n",
      "  Using cached idna-3.6-py3-none-any.whl.metadata (9.9 kB)\n",
      "Collecting sniffio>=1.1 (from anyio<5,>=3->langchain-core<0.2,>=0.1->langchain-experimental==0.0.47)\n",
      "  Using cached sniffio-1.3.1-py3-none-any.whl.metadata (3.9 kB)\n",
      "Collecting exceptiongroup>=1.0.2 (from anyio<5,>=3->langchain-core<0.2,>=0.1->langchain-experimental==0.0.47)\n",
      "  Using cached exceptiongroup-1.2.0-py3-none-any.whl.metadata (6.6 kB)\n",
      "Collecting typing-extensions>=4.1 (from anyio<5,>=3->langchain-core<0.2,>=0.1->langchain-experimental==0.0.47)\n",
      "  Using cached typing_extensions-4.10.0-py3-none-any.whl.metadata (3.0 kB)\n",
      "Collecting marshmallow<4.0.0,>=3.18.0 (from dataclasses-json<0.7,>=0.5.7->langchain<0.1,>=0.0.350->langchain-experimental==0.0.47)\n",
      "  Using cached marshmallow-3.21.1-py3-none-any.whl.metadata (7.2 kB)\n",
      "Collecting typing-inspect<1,>=0.4.0 (from dataclasses-json<0.7,>=0.5.7->langchain<0.1,>=0.0.350->langchain-experimental==0.0.47)\n",
      "  Using cached typing_inspect-0.9.0-py3-none-any.whl.metadata (1.5 kB)\n",
      "Collecting jsonpointer>=1.9 (from jsonpatch<2.0,>=1.33->langchain<0.1,>=0.0.350->langchain-experimental==0.0.47)\n",
      "  Using cached jsonpointer-2.4-py2.py3-none-any.whl.metadata (2.5 kB)\n",
      "INFO: pip is looking at multiple versions of langchain-community to determine which version is compatible with other requirements. This could take a while.\n",
      "Collecting langchain-community<0.1,>=0.0.8 (from langchain<0.1,>=0.0.350->langchain-experimental==0.0.47)\n",
      "  Using cached langchain_community-0.0.27-py3-none-any.whl.metadata (8.2 kB)\n",
      "  Using cached langchain_community-0.0.26-py3-none-any.whl.metadata (8.2 kB)\n",
      "  Using cached langchain_community-0.0.25-py3-none-any.whl.metadata (8.1 kB)\n",
      "  Using cached langchain_community-0.0.24-py3-none-any.whl.metadata (8.1 kB)\n",
      "  Using cached langchain_community-0.0.23-py3-none-any.whl.metadata (8.1 kB)\n",
      "  Using cached langchain_community-0.0.22-py3-none-any.whl.metadata (8.1 kB)\n",
      "  Using cached langchain_community-0.0.21-py3-none-any.whl.metadata (8.1 kB)\n",
      "INFO: pip is still looking at multiple versions of langchain-community to determine which version is compatible with other requirements. This could take a while.\n",
      "  Using cached langchain_community-0.0.20-py3-none-any.whl.metadata (8.1 kB)\n",
      "Collecting annotated-types>=0.4.0 (from pydantic<3,>=1->langchain<0.1,>=0.0.350->langchain-experimental==0.0.47)\n",
      "  Using cached annotated_types-0.6.0-py3-none-any.whl.metadata (12 kB)\n",
      "Collecting pydantic-core==2.16.3 (from pydantic<3,>=1->langchain<0.1,>=0.0.350->langchain-experimental==0.0.47)\n",
      "  Downloading pydantic_core-2.16.3-cp39-none-win_amd64.whl.metadata (6.6 kB)\n",
      "Collecting charset-normalizer<4,>=2 (from requests<3,>=2->langchain<0.1,>=0.0.350->langchain-experimental==0.0.47)\n",
      "  Using cached charset_normalizer-3.3.2-cp39-cp39-win_amd64.whl.metadata (34 kB)\n",
      "Collecting urllib3<3,>=1.21.1 (from requests<3,>=2->langchain<0.1,>=0.0.350->langchain-experimental==0.0.47)\n",
      "  Using cached urllib3-2.2.1-py3-none-any.whl.metadata (6.4 kB)\n",
      "Collecting certifi>=2017.4.17 (from requests<3,>=2->langchain<0.1,>=0.0.350->langchain-experimental==0.0.47)\n",
      "  Using cached certifi-2024.2.2-py3-none-any.whl.metadata (2.2 kB)\n",
      "Collecting greenlet!=0.4.17 (from SQLAlchemy<3,>=1.4->langchain<0.1,>=0.0.350->langchain-experimental==0.0.47)\n",
      "  Using cached greenlet-3.0.3-cp39-cp39-win_amd64.whl.metadata (3.9 kB)\n",
      "Collecting mypy-extensions>=0.3.0 (from typing-inspect<1,>=0.4.0->dataclasses-json<0.7,>=0.5.7->langchain<0.1,>=0.0.350->langchain-experimental==0.0.47)\n",
      "  Using cached mypy_extensions-1.0.0-py3-none-any.whl.metadata (1.1 kB)\n",
      "Using cached langchain_experimental-0.0.47-py3-none-any.whl (162 kB)\n",
      "Downloading langchain-0.0.354-py3-none-any.whl (803 kB)\n",
      "   ---------------------------------------- 803.3/803.3 kB 8.4 MB/s eta 0:00:00\n",
      "Using cached langchain_core-0.1.23-py3-none-any.whl (241 kB)\n",
      "Downloading aiohttp-3.9.3-cp39-cp39-win_amd64.whl (366 kB)\n",
      "   ---------------------------------------- 366.0/366.0 kB 7.6 MB/s eta 0:00:00\n",
      "Using cached anyio-4.3.0-py3-none-any.whl (85 kB)\n",
      "Using cached async_timeout-4.0.3-py3-none-any.whl (5.7 kB)\n",
      "Using cached dataclasses_json-0.6.4-py3-none-any.whl (28 kB)\n",
      "Using cached jsonpatch-1.33-py2.py3-none-any.whl (12 kB)\n",
      "Using cached langchain_community-0.0.20-py3-none-any.whl (1.7 MB)\n",
      "Using cached langsmith-0.0.87-py3-none-any.whl (55 kB)\n",
      "Downloading numpy-1.26.4-cp39-cp39-win_amd64.whl (15.8 MB)\n",
      "   ---------------------------------------- 15.8/15.8 MB 9.9 MB/s eta 0:00:00\n",
      "Using cached packaging-23.2-py3-none-any.whl (53 kB)\n",
      "Using cached pydantic-2.6.4-py3-none-any.whl (394 kB)\n",
      "Downloading pydantic_core-2.16.3-cp39-none-win_amd64.whl (1.9 MB)\n",
      "   ---------------------------------------- 1.9/1.9 MB 8.5 MB/s eta 0:00:00\n",
      "Using cached PyYAML-6.0.1-cp39-cp39-win_amd64.whl (152 kB)\n",
      "Using cached requests-2.31.0-py3-none-any.whl (62 kB)\n",
      "Downloading SQLAlchemy-2.0.28-cp39-cp39-win_amd64.whl (2.1 MB)\n",
      "   ---------------------------------------- 2.1/2.1 MB 8.8 MB/s eta 0:00:00\n",
      "Using cached tenacity-8.2.3-py3-none-any.whl (24 kB)\n",
      "Using cached aiosignal-1.3.1-py3-none-any.whl (7.6 kB)\n",
      "Using cached annotated_types-0.6.0-py3-none-any.whl (12 kB)\n",
      "Using cached attrs-23.2.0-py3-none-any.whl (60 kB)\n",
      "Using cached certifi-2024.2.2-py3-none-any.whl (163 kB)\n",
      "Using cached charset_normalizer-3.3.2-cp39-cp39-win_amd64.whl (100 kB)\n",
      "Using cached exceptiongroup-1.2.0-py3-none-any.whl (16 kB)"
     ]
    }
   ],
   "source": [
    "!pip install langchain-experimental==0.0.47"
   ]
  },
  {
   "cell_type": "code",
   "execution_count": 2,
   "id": "b682e116",
   "metadata": {},
   "outputs": [
    {
     "name": "stdout",
     "output_type": "stream",
     "text": [
      "Collecting tabulate==0.9.0\n",
      "  Using cached tabulate-0.9.0-py3-none-any.whl.metadata (34 kB)\n",
      "Using cached tabulate-0.9.0-py3-none-any.whl (35 kB)\n",
      "Installing collected packages: tabulate\n",
      "Successfully installed tabulate-0.9.0\n"
     ]
    }
   ],
   "source": [
    "!pip install tabulate==0.9.0"
   ]
  },
  {
   "cell_type": "code",
   "execution_count": 3,
   "id": "17e224e3",
   "metadata": {},
   "outputs": [
    {
     "name": "stdout",
     "output_type": "stream",
     "text": [
      "Collecting pandas==2.1.4\n",
      "  Using cached pandas-2.1.4-cp39-cp39-win_amd64.whl.metadata (18 kB)\n",
      "Requirement already satisfied: numpy<2,>=1.22.4 in e:\\anaconda3\\envs\\error_env_39\\lib\\site-packages (from pandas==2.1.4) (1.26.4)\n",
      "Requirement already satisfied: python-dateutil>=2.8.2 in e:\\anaconda3\\envs\\error_env_39\\lib\\site-packages (from pandas==2.1.4) (2.9.0.post0)\n",
      "Collecting pytz>=2020.1 (from pandas==2.1.4)\n",
      "  Using cached pytz-2024.1-py2.py3-none-any.whl.metadata (22 kB)\n",
      "Collecting tzdata>=2022.1 (from pandas==2.1.4)\n",
      "  Using cached tzdata-2024.1-py2.py3-none-any.whl.metadata (1.4 kB)\n",
      "Requirement already satisfied: six>=1.5 in e:\\anaconda3\\envs\\error_env_39\\lib\\site-packages (from python-dateutil>=2.8.2->pandas==2.1.4) (1.16.0)\n",
      "Using cached pandas-2.1.4-cp39-cp39-win_amd64.whl (10.8 MB)\n",
      "Using cached pytz-2024.1-py2.py3-none-any.whl (505 kB)\n",
      "Using cached tzdata-2024.1-py2.py3-none-any.whl (345 kB)\n",
      "Installing collected packages: pytz, tzdata, pandas\n",
      "Successfully installed pandas-2.1.4 pytz-2024.1 tzdata-2024.1\n"
     ]
    }
   ],
   "source": [
    "!pip install pandas==2.1.4"
   ]
  },
  {
   "cell_type": "code",
   "execution_count": 4,
   "id": "8cce51aa",
   "metadata": {},
   "outputs": [
    {
     "name": "stdout",
     "output_type": "stream",
     "text": [
      "Collecting openai==1.6.1\n",
      "  Using cached openai-1.6.1-py3-none-any.whl.metadata (17 kB)\n",
      "Requirement already satisfied: anyio<5,>=3.5.0 in e:\\anaconda3\\envs\\error_env_39\\lib\\site-packages (from openai==1.6.1) (4.3.0)\n",
      "Collecting distro<2,>=1.7.0 (from openai==1.6.1)\n",
      "  Using cached distro-1.9.0-py3-none-any.whl.metadata (6.8 kB)\n",
      "Collecting httpx<1,>=0.23.0 (from openai==1.6.1)\n",
      "  Using cached httpx-0.27.0-py3-none-any.whl.metadata (7.2 kB)\n",
      "Requirement already satisfied: pydantic<3,>=1.9.0 in e:\\anaconda3\\envs\\error_env_39\\lib\\site-packages (from openai==1.6.1) (2.6.4)\n",
      "Requirement already satisfied: sniffio in e:\\anaconda3\\envs\\error_env_39\\lib\\site-packages (from openai==1.6.1) (1.3.1)\n",
      "Collecting tqdm>4 (from openai==1.6.1)\n",
      "  Using cached tqdm-4.66.2-py3-none-any.whl.metadata (57 kB)\n",
      "Requirement already satisfied: typing-extensions<5,>=4.7 in e:\\anaconda3\\envs\\error_env_39\\lib\\site-packages (from openai==1.6.1) (4.10.0)\n",
      "Requirement already satisfied: idna>=2.8 in e:\\anaconda3\\envs\\error_env_39\\lib\\site-packages (from anyio<5,>=3.5.0->openai==1.6.1) (3.6)\n",
      "Requirement already satisfied: exceptiongroup>=1.0.2 in e:\\anaconda3\\envs\\error_env_39\\lib\\site-packages (from anyio<5,>=3.5.0->openai==1.6.1) (1.2.0)\n",
      "Requirement already satisfied: certifi in e:\\anaconda3\\envs\\error_env_39\\lib\\site-packages (from httpx<1,>=0.23.0->openai==1.6.1) (2024.2.2)\n",
      "Collecting httpcore==1.* (from httpx<1,>=0.23.0->openai==1.6.1)\n",
      "  Using cached httpcore-1.0.4-py3-none-any.whl.metadata (20 kB)\n",
      "Collecting h11<0.15,>=0.13 (from httpcore==1.*->httpx<1,>=0.23.0->openai==1.6.1)\n",
      "  Using cached h11-0.14.0-py3-none-any.whl.metadata (8.2 kB)\n",
      "Requirement already satisfied: annotated-types>=0.4.0 in e:\\anaconda3\\envs\\error_env_39\\lib\\site-packages (from pydantic<3,>=1.9.0->openai==1.6.1) (0.6.0)\n",
      "Requirement already satisfied: pydantic-core==2.16.3 in e:\\anaconda3\\envs\\error_env_39\\lib\\site-packages (from pydantic<3,>=1.9.0->openai==1.6.1) (2.16.3)\n",
      "Requirement already satisfied: colorama in e:\\anaconda3\\envs\\error_env_39\\lib\\site-packages (from tqdm>4->openai==1.6.1) (0.4.6)\n",
      "Using cached openai-1.6.1-py3-none-any.whl (225 kB)\n",
      "Using cached distro-1.9.0-py3-none-any.whl (20 kB)\n",
      "Using cached httpx-0.27.0-py3-none-any.whl (75 kB)\n",
      "Using cached httpcore-1.0.4-py3-none-any.whl (77 kB)\n",
      "Using cached tqdm-4.66.2-py3-none-any.whl (78 kB)\n",
      "Using cached h11-0.14.0-py3-none-any.whl (58 kB)\n",
      "Installing collected packages: tqdm, h11, distro, httpcore, httpx, openai\n",
      "Successfully installed distro-1.9.0 h11-0.14.0 httpcore-1.0.4 httpx-0.27.0 openai-1.6.1 tqdm-4.66.2\n"
     ]
    }
   ],
   "source": [
    "!pip install openai==1.6.1"
   ]
  },
  {
   "cell_type": "code",
   "execution_count": 5,
   "id": "81d875c3",
   "metadata": {},
   "outputs": [
    {
     "data": {
      "text/html": [
       "<div>\n",
       "<style scoped>\n",
       "    .dataframe tbody tr th:only-of-type {\n",
       "        vertical-align: middle;\n",
       "    }\n",
       "\n",
       "    .dataframe tbody tr th {\n",
       "        vertical-align: top;\n",
       "    }\n",
       "\n",
       "    .dataframe thead th {\n",
       "        text-align: right;\n",
       "    }\n",
       "</style>\n",
       "<table border=\"1\" class=\"dataframe\">\n",
       "  <thead>\n",
       "    <tr style=\"text-align: right;\">\n",
       "      <th></th>\n",
       "      <th>title</th>\n",
       "      <th>subtitle</th>\n",
       "      <th>authors</th>\n",
       "      <th>categories</th>\n",
       "      <th>thumbnail</th>\n",
       "      <th>description</th>\n",
       "      <th>published_year</th>\n",
       "      <th>average_rating</th>\n",
       "      <th>num_pages</th>\n",
       "      <th>ratings_count</th>\n",
       "    </tr>\n",
       "  </thead>\n",
       "  <tbody>\n",
       "    <tr>\n",
       "      <th>0</th>\n",
       "      <td>Gilead</td>\n",
       "      <td>NaN</td>\n",
       "      <td>Marilynne Robinson</td>\n",
       "      <td>Fiction</td>\n",
       "      <td>http://books.google.com/books/content?id=KQZCP...</td>\n",
       "      <td>A NOVEL THAT READERS and critics have been eag...</td>\n",
       "      <td>2004</td>\n",
       "      <td>3.85</td>\n",
       "      <td>247</td>\n",
       "      <td>361</td>\n",
       "    </tr>\n",
       "    <tr>\n",
       "      <th>1</th>\n",
       "      <td>Spider's Web</td>\n",
       "      <td>A Novel</td>\n",
       "      <td>Charles Osborne;Agatha Christie</td>\n",
       "      <td>Detective and mystery stories</td>\n",
       "      <td>http://books.google.com/books/content?id=gA5GP...</td>\n",
       "      <td>A new 'Christie for Christmas' -- a full-lengt...</td>\n",
       "      <td>2000</td>\n",
       "      <td>3.83</td>\n",
       "      <td>241</td>\n",
       "      <td>5164</td>\n",
       "    </tr>\n",
       "    <tr>\n",
       "      <th>2</th>\n",
       "      <td>The One Tree</td>\n",
       "      <td>NaN</td>\n",
       "      <td>Stephen R. Donaldson</td>\n",
       "      <td>American fiction</td>\n",
       "      <td>http://books.google.com/books/content?id=OmQaw...</td>\n",
       "      <td>Volume Two of Stephen Donaldson's acclaimed se...</td>\n",
       "      <td>1982</td>\n",
       "      <td>3.97</td>\n",
       "      <td>479</td>\n",
       "      <td>172</td>\n",
       "    </tr>\n",
       "    <tr>\n",
       "      <th>3</th>\n",
       "      <td>Rage of angels</td>\n",
       "      <td>NaN</td>\n",
       "      <td>Sidney Sheldon</td>\n",
       "      <td>Fiction</td>\n",
       "      <td>http://books.google.com/books/content?id=FKo2T...</td>\n",
       "      <td>A memorable, mesmerizing heroine Jennifer -- b...</td>\n",
       "      <td>1993</td>\n",
       "      <td>3.93</td>\n",
       "      <td>512</td>\n",
       "      <td>29532</td>\n",
       "    </tr>\n",
       "    <tr>\n",
       "      <th>4</th>\n",
       "      <td>The Four Loves</td>\n",
       "      <td>NaN</td>\n",
       "      <td>Clive Staples Lewis</td>\n",
       "      <td>Christian life</td>\n",
       "      <td>http://books.google.com/books/content?id=XhQ5X...</td>\n",
       "      <td>Lewis' work on the nature of love divides love...</td>\n",
       "      <td>2002</td>\n",
       "      <td>4.15</td>\n",
       "      <td>170</td>\n",
       "      <td>33684</td>\n",
       "    </tr>\n",
       "  </tbody>\n",
       "</table>\n",
       "</div>"
      ],
      "text/plain": [
       "            title subtitle                          authors  \\\n",
       "0          Gilead      NaN               Marilynne Robinson   \n",
       "1    Spider's Web  A Novel  Charles Osborne;Agatha Christie   \n",
       "2    The One Tree      NaN             Stephen R. Donaldson   \n",
       "3  Rage of angels      NaN                   Sidney Sheldon   \n",
       "4  The Four Loves      NaN              Clive Staples Lewis   \n",
       "\n",
       "                      categories  \\\n",
       "0                        Fiction   \n",
       "1  Detective and mystery stories   \n",
       "2               American fiction   \n",
       "3                        Fiction   \n",
       "4                 Christian life   \n",
       "\n",
       "                                           thumbnail  \\\n",
       "0  http://books.google.com/books/content?id=KQZCP...   \n",
       "1  http://books.google.com/books/content?id=gA5GP...   \n",
       "2  http://books.google.com/books/content?id=OmQaw...   \n",
       "3  http://books.google.com/books/content?id=FKo2T...   \n",
       "4  http://books.google.com/books/content?id=XhQ5X...   \n",
       "\n",
       "                                         description  published_year  \\\n",
       "0  A NOVEL THAT READERS and critics have been eag...            2004   \n",
       "1  A new 'Christie for Christmas' -- a full-lengt...            2000   \n",
       "2  Volume Two of Stephen Donaldson's acclaimed se...            1982   \n",
       "3  A memorable, mesmerizing heroine Jennifer -- b...            1993   \n",
       "4  Lewis' work on the nature of love divides love...            2002   \n",
       "\n",
       "   average_rating  num_pages  ratings_count  \n",
       "0            3.85        247            361  \n",
       "1            3.83        241           5164  \n",
       "2            3.97        479            172  \n",
       "3            3.93        512          29532  \n",
       "4            4.15        170          33684  "
      ]
     },
     "execution_count": 5,
     "metadata": {},
     "output_type": "execute_result"
    }
   ],
   "source": [
    "import pandas as pd #파이썬 언어로 작성된 데이터를 분석 및 조작하기 위한 라이브러리\n",
    "\n",
    "#csv 파일을 데이터프레임으로 가져오기\n",
    "df = pd.read_csv('e:/data/booksv_02.csv') #booksv_02.csv 파일이 위치한 경로 지정\n",
    "df.head()"
   ]
  },
  {
   "cell_type": "code",
   "execution_count": 6,
   "id": "918ffe10",
   "metadata": {},
   "outputs": [
    {
     "name": "stderr",
     "output_type": "stream",
     "text": [
      "e:\\anaconda3\\envs\\error_env_39\\lib\\site-packages\\langchain_core\\_api\\deprecation.py:117: LangChainDeprecationWarning: The class `langchain_community.chat_models.openai.ChatOpenAI` was deprecated in langchain-community 0.0.10 and will be removed in 0.2.0. An updated version of the class exists in the langchain-openai package and should be used instead. To use it run `pip install -U langchain-openai` and import as `from langchain_openai import ChatOpenAI`.\n",
      "  warn_deprecated(\n"
     ]
    }
   ],
   "source": [
    "from langchain_experimental.agents.agent_toolkits import create_pandas_dataframe_agent\n",
    "from langchain.chat_models import ChatOpenAI\n",
    "from langchain.agents.agent_types import AgentType\n",
    "import os\n",
    "os.environ[\"OPENAI_API_KEY\"] = \"sk-\" #openai 키 입력\n",
    "\n",
    "# 에이전트 생성\n",
    "agent = create_pandas_dataframe_agent(\n",
    "    ChatOpenAI(temperature=0, \n",
    "               model='gpt-3.5-turbo-16k-0613'),        #gpt-3.5-turbo 사용\n",
    "    df,                                    #데이터가 담긴 곳\n",
    "    verbose=False,                          #추론 과정을 출력하지 않음\n",
    "    agent_type=AgentType.OPENAI_FUNCTIONS, \n",
    ")"
   ]
  },
  {
   "cell_type": "code",
   "execution_count": 7,
   "id": "b62d8b6a",
   "metadata": {},
   "outputs": [
    {
     "data": {
      "text/plain": [
       "'제품 중에서 ratings_count가 가장 높은 책은 \"One Hundred Years of Solitude\"입니다.'"
      ]
     },
     "execution_count": 7,
     "metadata": {},
     "output_type": "execute_result"
    }
   ],
   "source": [
    "agent.run('어떤 제품의 ratings_count가 제일 높아?')"
   ]
  },
  {
   "cell_type": "code",
   "execution_count": 8,
   "id": "6af5ff1a",
   "metadata": {},
   "outputs": [
    {
     "data": {
      "text/plain": [
       "'가장 최근에 출간된 책은 \"The Yiddish Policemen\\'s Union\"입니다.'"
      ]
     },
     "execution_count": 8,
     "metadata": {},
     "output_type": "execute_result"
    }
   ],
   "source": [
    "agent.run('가장 최근에 출간된 책은?')"
   ]
  },
  {
   "cell_type": "code",
   "execution_count": null,
   "id": "192ce4ca",
   "metadata": {},
   "outputs": [],
   "source": []
  }
 ],
 "metadata": {
  "kernelspec": {
   "display_name": "error_env_39",
   "language": "python",
   "name": "error_env_39"
  },
  "language_info": {
   "codemirror_mode": {
    "name": "ipython",
    "version": 3
   },
   "file_extension": ".py",
   "mimetype": "text/x-python",
   "name": "python",
   "nbconvert_exporter": "python",
   "pygments_lexer": "ipython3",
   "version": "3.9.18"
  }
 },
 "nbformat": 4,
 "nbformat_minor": 5
}
